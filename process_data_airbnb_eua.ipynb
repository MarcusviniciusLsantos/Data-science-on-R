{
 "cells": [
  {
   "cell_type": "markdown",
   "metadata": {},
   "source": [
    "Learning R Language for Data Science\n",
    "\n",
    "First, we need a database to analyze. \n",
    "For this I got an airbnb database with all the\n",
    "US registered apartments, this base contains 16\n",
    "variables and 48895 records. This base was obtained from www.kaggle.com.\n",
    "Our focus is to extract relevant information using the\n",
    "language R as a facilitator for this extraction.\n",
    "\n",
    "Now let's import some packages in R needed for analysis on this basis.\n"
   ]
  },
  {
   "cell_type": "code",
   "execution_count": 4,
   "metadata": {},
   "outputs": [],
   "source": [
    "library(dplyr)\n",
    "library(ggplot2)\n",
    "library(tidyr)"
   ]
  },
  {
   "cell_type": "markdown",
   "metadata": {},
   "source": [
    "After we import the libraries we will import our database."
   ]
  },
  {
   "cell_type": "code",
   "execution_count": 6,
   "metadata": {},
   "outputs": [],
   "source": [
    "data_EUA = read.csv(paste(\"AB_NYC_2019.csv\", sep=\"\"))"
   ]
  },
  {
   "cell_type": "markdown",
   "metadata": {},
   "source": [
    "For a better analysis we need to know what each variable represents, its type.\n",
    "With this we can relate the variables and get a good analysis.\n",
    "The str function helps us by showing this data and its types among other things:"
   ]
  },
  {
   "cell_type": "code",
   "execution_count": 7,
   "metadata": {},
   "outputs": [
    {
     "name": "stdout",
     "output_type": "stream",
     "text": [
      "'data.frame':\t48895 obs. of  16 variables:\n",
      " $ id                            : int  2539 2595 3647 3831 5022 5099 5121 5178 5203 5238 ...\n",
      " $ name                          : Factor w/ 47906 levels \"\",\" 1 Bed Apt in Utopic Williamsburg \",..: 12573 38016 45018 15591 19219 24849 8257 24896 15486 17573 ...\n",
      " $ host_id                       : int  2787 2845 4632 4869 7192 7322 7356 8967 7490 7549 ...\n",
      " $ host_name                     : Factor w/ 11453 levels \"\",\"​ Valéria\",..: 4997 4791 2913 6210 5929 1938 3549 9649 6880 1235 ...\n",
      " $ neighbourhood_group           : Factor w/ 5 levels \"Bronx\",\"Brooklyn\",..: 2 3 3 2 3 3 2 3 3 3 ...\n",
      " $ neighbourhood                 : Factor w/ 221 levels \"Allerton\",\"Arden Heights\",..: 109 128 95 42 62 138 14 96 203 36 ...\n",
      " $ latitude                      : num  40.6 40.8 40.8 40.7 40.8 ...\n",
      " $ longitude                     : num  -74 -74 -73.9 -74 -73.9 ...\n",
      " $ room_type                     : Factor w/ 3 levels \"Entire home/apt\",..: 2 1 2 1 1 1 2 2 2 1 ...\n",
      " $ price                         : int  149 225 150 89 80 200 60 79 79 150 ...\n",
      " $ minimum_nights                : int  1 1 3 1 10 3 45 2 2 1 ...\n",
      " $ number_of_reviews             : int  9 45 0 270 9 74 49 430 118 160 ...\n",
      " $ last_review                   : Factor w/ 1765 levels \"\",\"2011-03-28\",..: 1503 1717 1 1762 1534 1749 1124 1751 1048 1736 ...\n",
      " $ reviews_per_month             : num  0.21 0.38 NA 4.64 0.1 0.59 0.4 3.47 0.99 1.33 ...\n",
      " $ calculated_host_listings_count: int  6 2 1 1 1 1 1 1 1 4 ...\n",
      " $ availability_365              : int  365 355 365 194 0 129 0 220 0 188 ...\n"
     ]
    }
   ],
   "source": [
    "str(data_EUA)"
   ]
  },
  {
   "cell_type": "markdown",
   "metadata": {},
   "source": [
    "With this, we see interesting features in each variable. The R language allows us to identify all types and variables to go deeper and analyze each variable separately using the table function. We will specifically analyze the room_type variable to know from our base the room types and the number of records of each:"
   ]
  },
  {
   "cell_type": "code",
   "execution_count": 8,
   "metadata": {},
   "outputs": [
    {
     "data": {
      "text/plain": [
       "\n",
       "Entire home/apt    Private room     Shared room \n",
       "          25409           22326            1160 "
      ]
     },
     "metadata": {},
     "output_type": "display_data"
    }
   ],
   "source": [
    "table(data_EUA$room_type)"
   ]
  },
  {
   "cell_type": "markdown",
   "metadata": {},
   "source": [
    "After the analysis of each characteristic using the above methods arises the need to visualize these data for a better interpretation. With this we can perceive relationships between the characteristics and if we use graphs we can not only demonstrate the relationships we will also understand them better. For this we will use the ggplot function."
   ]
  },
  {
   "cell_type": "code",
   "execution_count": 15,
   "metadata": {},
   "outputs": [
    {
     "data": {
      "image/png": "[encoded data removed]",
      "text/plain": [
       "plot without title"
      ]
     },
     "metadata": {},
     "output_type": "display_data"
    }
   ],
   "source": [
    "ggplot(data_EUA, aes(x = neighbourhood_group, fill = room_type)) + geom_bar() + labs( fill = \"Room type\", x = \"Neighbourhoods group\", y = \"Registers\")"
   ]
  },
  {
   "cell_type": "markdown",
   "metadata": {},
   "source": [
    "After analyzing the graph and the attributes of the base we see that we can make a more accurate analysis of each neighborhood for example. So let's take all the Brooklyn records to look at separately and find out the average price of apartments / rooms."
   ]
  },
  {
   "cell_type": "code",
   "execution_count": 29,
   "metadata": {},
   "outputs": [
    {
     "data": {
      "text/plain": [
       "\n",
       "        Bronx      Brooklyn     Manhattan        Queens Staten Island \n",
       "            0         20104             0             0             0 "
      ]
     },
     "metadata": {},
     "output_type": "display_data"
    },
    {
     "data": {
      "text/plain": [
       "\n",
       "Brooklyn \n",
       "   20104 "
      ]
     },
     "metadata": {},
     "output_type": "display_data"
    },
    {
     "name": "stderr",
     "output_type": "stream",
     "text": [
      "Mean Apt/Rooms on Brooklyn -> $ 124,383207321926\n"
     ]
    }
   ],
   "source": [
    "data_EUA_brooklyn <- filter(data_EUA, neighbourhood_group == \"Brooklyn\")\n",
    "\n",
    "table(data_EUA_brooklyn$neighbourhood_group)\n",
    "\n",
    "data_EUA_brooklyn$neighbourhood_group <- droplevels(data_EUA_brooklyn$neighbourhood_group)\n",
    "\n",
    "table(data_EUA_brooklyn$neighbourhood_group)\n",
    "\n",
    "mean_brooklyn <- mean(data_EUA_brooklyn$price)\n",
    "message(\"Mean Apt/Rooms on Brooklyn -> $ \", mean_brooklyn)\n",
    "\n",
    "\n"
   ]
  },
  {
   "cell_type": "markdown",
   "metadata": {},
   "source": [
    "We use the filter function and set the Brooklyn neighborhood to paramentro, after filtering we drop the neighborhood types from the new base because we only have data from Brooklyn and we don't want the other neighborhoods. We check the base again and see that we only have Brooklyn, then use the averaging function to see the average price of apartments / rooms in Brooklyn.\n",
    "\n",
    "I hope you understand by now, the article is under construction and will be building with new functions and methods over time :)\n"
   ]
  }
 ],
 "metadata": {
  "kernelspec": {
   "display_name": "R",
   "language": "R",
   "name": "ir"
  },
  "language_info": {
   "codemirror_mode": "r",
   "file_extension": ".r",
   "mimetype": "text/x-r-source",
   "name": "R",
   "pygments_lexer": "r",
   "version": "3.6.1"
  }
 },
 "nbformat": 4,
 "nbformat_minor": 4
}
